{
 "cells": [
  {
   "cell_type": "code",
   "execution_count": 1,
   "id": "6552de65-754f-48f3-8bbe-e70c69da8e1f",
   "metadata": {},
   "outputs": [],
   "source": [
    "#GITHUB VERSION\n",
    "#Gotcha 1.0.0\n",
    "\n",
    "import openai\n",
    "from openai import OpenAI\n",
    "\n",
    "OPENAI_API_KEY = \"OPEN_AI_KEY\""
   ]
  },
  {
   "cell_type": "code",
   "execution_count": 2,
   "id": "494c0b25-c9a4-4b72-8a6a-4b33d6a9f305",
   "metadata": {},
   "outputs": [],
   "source": [
    "client = OpenAI(\n",
    "    api_key = OPENAI_API_KEY\n",
    ")"
   ]
  },
  {
   "cell_type": "code",
   "execution_count": 3,
   "id": "45f7544c-abb2-4cef-8385-7cebd58be27e",
   "metadata": {},
   "outputs": [],
   "source": [
    "def get_model_response(messages):\n",
    "\n",
    "    completion = client.chat.completions.create(\n",
    "      model = \"gpt-3.5-turbo\",\n",
    "      messages = messages\n",
    "    )\n",
    "\n",
    "    print(completion.choices[0].message.content)\n",
    "    return completion.choices[0].message.content\n",
    "    \n",
    "def dialogue():\n",
    "\n",
    "    new_message = ''\n",
    "\n",
    "    while True:\n",
    "    \n",
    "        response = ''\n",
    "\n",
    "        new_message = input('enter your message')\n",
    "\n",
    "        if new_message == 'stop it':\n",
    "            print('okay, lets stop')\n",
    "            break\n",
    "\n",
    "        new_formatted_message = {\"role\": \"user\", \"content\": new_message}\n",
    "        messages.append(new_formatted_message)\n",
    "\n",
    "        response = get_model_response(messages)\n",
    "\n",
    "        new_formatted_response = {\"role\": \"system\", \"content\": new_message}\n",
    "        messages.append(new_formatted_response)\n",
    "\n",
    "    else:\n",
    "\n",
    "        print(\"Ok, let's stop\")\n",
    "\n",
    "def get_model_response(messages):\n",
    "\n",
    "    completion = client.chat.completions.create(\n",
    "      model = \"gpt-3.5-turbo\",\n",
    "      messages = messages\n",
    "    )\n",
    "\n",
    "    print(completion.choices[0].message.content)\n",
    "    return completion.choices[0].message.content    "
   ]
  },
  {
   "cell_type": "code",
   "execution_count": null,
   "id": "fa53fde8-4da8-42b3-847f-cd17e5d6f2d6",
   "metadata": {},
   "outputs": [],
   "source": [
    "messages = [\n",
    "    {\"role\": \"system\", \"content\": \"You are a Python coding assistant\"},\n",
    "      ]\n",
    "\n",
    "dialogue()"
   ]
  },
  {
   "cell_type": "code",
   "execution_count": null,
   "id": "07723713-e263-455e-aa73-0bef3d4d4c47",
   "metadata": {},
   "outputs": [],
   "source": [
    "#Enter the code you need here."
   ]
  }
 ],
 "metadata": {
  "kernelspec": {
   "display_name": "Python 3 (ipykernel)",
   "language": "python",
   "name": "python3"
  },
  "language_info": {
   "codemirror_mode": {
    "name": "ipython",
    "version": 3
   },
   "file_extension": ".py",
   "mimetype": "text/x-python",
   "name": "python",
   "nbconvert_exporter": "python",
   "pygments_lexer": "ipython3",
   "version": "3.12.3"
  }
 },
 "nbformat": 4,
 "nbformat_minor": 5
}
